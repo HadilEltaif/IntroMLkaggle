{
 "cells": [
  {
   "cell_type": "markdown",
   "id": "143ab484",
   "metadata": {
    "papermill": {
     "duration": 0.015169,
     "end_time": "2022-03-22T10:53:20.679185",
     "exception": false,
     "start_time": "2022-03-22T10:53:20.664016",
     "status": "completed"
    },
    "tags": []
   },
   "source": [
    "**This notebook is an exercise in the [Introduction to Machine Learning](https://www.kaggle.com/learn/intro-to-machine-learning) course.  You can reference the tutorial at [this link](https://www.kaggle.com/dansbecker/model-validation).**\n",
    "\n",
    "---\n"
   ]
  },
  {
   "cell_type": "markdown",
   "id": "77c85c7c",
   "metadata": {
    "papermill": {
     "duration": 0.013308,
     "end_time": "2022-03-22T10:53:20.706312",
     "exception": false,
     "start_time": "2022-03-22T10:53:20.693004",
     "status": "completed"
    },
    "tags": []
   },
   "source": [
    "## Recap\n",
    "You've built a model. In this exercise you will test how good your model is.\n",
    "\n",
    "Run the cell below to set up your coding environment where the previous exercise left off."
   ]
  },
  {
   "cell_type": "code",
   "execution_count": 1,
   "id": "e943ead7",
   "metadata": {
    "execution": {
     "iopub.execute_input": "2022-03-22T10:53:20.737764Z",
     "iopub.status.busy": "2022-03-22T10:53:20.736680Z",
     "iopub.status.idle": "2022-03-22T10:53:22.072078Z",
     "shell.execute_reply": "2022-03-22T10:53:22.072587Z",
     "shell.execute_reply.started": "2022-03-22T10:52:06.531390Z"
    },
    "papermill": {
     "duration": 1.352758,
     "end_time": "2022-03-22T10:53:22.072862",
     "exception": false,
     "start_time": "2022-03-22T10:53:20.720104",
     "status": "completed"
    },
    "tags": []
   },
   "outputs": [
    {
     "name": "stdout",
     "output_type": "stream",
     "text": [
      "First in-sample predictions: [208500. 181500. 223500. 140000. 250000.]\n",
      "Actual target values for those homes: [208500, 181500, 223500, 140000, 250000]\n",
      "Setup Complete\n"
     ]
    }
   ],
   "source": [
    "# Code you have previously used to load data\n",
    "import pandas as pd\n",
    "from sklearn.tree import DecisionTreeRegressor\n",
    "\n",
    "# Path of the file to read\n",
    "iowa_file_path = '../input/home-data-for-ml-course/train.csv'\n",
    "\n",
    "home_data = pd.read_csv(iowa_file_path)\n",
    "y = home_data.SalePrice\n",
    "feature_columns = ['LotArea', 'YearBuilt', '1stFlrSF', '2ndFlrSF', 'FullBath', 'BedroomAbvGr', 'TotRmsAbvGrd']\n",
    "X = home_data[feature_columns]\n",
    "\n",
    "# Specify Model\n",
    "iowa_model = DecisionTreeRegressor()\n",
    "# Fit Model\n",
    "iowa_model.fit(X, y)\n",
    "\n",
    "print(\"First in-sample predictions:\", iowa_model.predict(X.head()))\n",
    "print(\"Actual target values for those homes:\", y.head().tolist())\n",
    "\n",
    "# Set up code checking\n",
    "from learntools.core import binder\n",
    "binder.bind(globals())\n",
    "from learntools.machine_learning.ex4 import *\n",
    "print(\"Setup Complete\")"
   ]
  },
  {
   "cell_type": "markdown",
   "id": "47bbfcf1",
   "metadata": {
    "papermill": {
     "duration": 0.013594,
     "end_time": "2022-03-22T10:53:22.101253",
     "exception": false,
     "start_time": "2022-03-22T10:53:22.087659",
     "status": "completed"
    },
    "tags": []
   },
   "source": [
    "# Exercises\n",
    "\n",
    "## Step 1: Split Your Data\n",
    "Use the `train_test_split` function to split up your data.\n",
    "\n",
    "Give it the argument `random_state=1` so the `check` functions know what to expect when verifying your code.\n",
    "\n",
    "Recall, your features are loaded in the DataFrame **X** and your target is loaded in **y**.\n"
   ]
  },
  {
   "cell_type": "code",
   "execution_count": 2,
   "id": "2c8cf016",
   "metadata": {
    "execution": {
     "iopub.execute_input": "2022-03-22T10:53:22.132040Z",
     "iopub.status.busy": "2022-03-22T10:53:22.131246Z",
     "iopub.status.idle": "2022-03-22T10:53:22.143133Z",
     "shell.execute_reply": "2022-03-22T10:53:22.143572Z",
     "shell.execute_reply.started": "2022-03-22T10:52:07.964882Z"
    },
    "papermill": {
     "duration": 0.02878,
     "end_time": "2022-03-22T10:53:22.143730",
     "exception": false,
     "start_time": "2022-03-22T10:53:22.114950",
     "status": "completed"
    },
    "tags": []
   },
   "outputs": [
    {
     "data": {
      "application/javascript": [
       "parent.postMessage({\"jupyterEvent\": \"custom.exercise_interaction\", \"data\": {\"outcomeType\": 1, \"valueTowardsCompletion\": 0.25, \"interactionType\": 1, \"questionType\": 2, \"questionId\": \"1_SplitData\", \"learnToolsVersion\": \"0.3.4\", \"failureMessage\": \"\", \"exceptionClass\": \"\", \"trace\": \"\"}}, \"*\")"
      ],
      "text/plain": [
       "<IPython.core.display.Javascript object>"
      ]
     },
     "metadata": {},
     "output_type": "display_data"
    },
    {
     "data": {
      "text/markdown": [
       "<span style=\"color:#33cc33\">Correct</span>"
      ],
      "text/plain": [
       "Correct"
      ]
     },
     "metadata": {},
     "output_type": "display_data"
    }
   ],
   "source": [
    "# Import the train_test_split function and uncomment\n",
    "from sklearn.model_selection import train_test_split\n",
    "\n",
    "# fill in and uncomment\n",
    "train_X, val_X, train_y, val_y = train_test_split(X,y,random_state=1)\n",
    "# Check your answer\n",
    "step_1.check()"
   ]
  },
  {
   "cell_type": "code",
   "execution_count": 3,
   "id": "9c54219e",
   "metadata": {
    "execution": {
     "iopub.execute_input": "2022-03-22T10:53:22.177375Z",
     "iopub.status.busy": "2022-03-22T10:53:22.176776Z",
     "iopub.status.idle": "2022-03-22T10:53:22.178181Z",
     "shell.execute_reply": "2022-03-22T10:53:22.178711Z",
     "shell.execute_reply.started": "2022-03-22T10:52:07.982545Z"
    },
    "papermill": {
     "duration": 0.020366,
     "end_time": "2022-03-22T10:53:22.178862",
     "exception": false,
     "start_time": "2022-03-22T10:53:22.158496",
     "status": "completed"
    },
    "tags": []
   },
   "outputs": [],
   "source": [
    "# The lines below will show you a hint or the solution.\n",
    "# step_1.hint() \n",
    "# step_1.solution()\n"
   ]
  },
  {
   "cell_type": "markdown",
   "id": "9a4c7f58",
   "metadata": {
    "papermill": {
     "duration": 0.014247,
     "end_time": "2022-03-22T10:53:22.207596",
     "exception": false,
     "start_time": "2022-03-22T10:53:22.193349",
     "status": "completed"
    },
    "tags": []
   },
   "source": [
    "## Step 2: Specify and Fit the Model\n",
    "\n",
    "Create a `DecisionTreeRegressor` model and fit it to the relevant data.\n",
    "Set `random_state` to 1 again when creating the model."
   ]
  },
  {
   "cell_type": "code",
   "execution_count": 4,
   "id": "b32e6b5d",
   "metadata": {
    "execution": {
     "iopub.execute_input": "2022-03-22T10:53:22.240682Z",
     "iopub.status.busy": "2022-03-22T10:53:22.240084Z",
     "iopub.status.idle": "2022-03-22T10:53:22.265193Z",
     "shell.execute_reply": "2022-03-22T10:53:22.265718Z",
     "shell.execute_reply.started": "2022-03-22T10:52:07.988201Z"
    },
    "papermill": {
     "duration": 0.043205,
     "end_time": "2022-03-22T10:53:22.265872",
     "exception": false,
     "start_time": "2022-03-22T10:53:22.222667",
     "status": "completed"
    },
    "tags": []
   },
   "outputs": [
    {
     "name": "stdout",
     "output_type": "stream",
     "text": [
      "[186500. 184000. 130000.  92000. 164500. 220000. 335000. 144152. 215000.\n",
      " 262000.]\n",
      "[186500. 184000. 130000.  92000. 164500. 220000. 335000. 144152. 215000.\n",
      " 262000.]\n"
     ]
    },
    {
     "data": {
      "application/javascript": [
       "parent.postMessage({\"jupyterEvent\": \"custom.exercise_interaction\", \"data\": {\"outcomeType\": 1, \"valueTowardsCompletion\": 0.25, \"interactionType\": 1, \"questionType\": 2, \"questionId\": \"2_FitModelWithTrain\", \"learnToolsVersion\": \"0.3.4\", \"failureMessage\": \"\", \"exceptionClass\": \"\", \"trace\": \"\"}}, \"*\")"
      ],
      "text/plain": [
       "<IPython.core.display.Javascript object>"
      ]
     },
     "metadata": {},
     "output_type": "display_data"
    },
    {
     "data": {
      "text/markdown": [
       "<span style=\"color:#33cc33\">Correct</span>"
      ],
      "text/plain": [
       "Correct"
      ]
     },
     "metadata": {},
     "output_type": "display_data"
    }
   ],
   "source": [
    "# You imported DecisionTreeRegressor in your last exercise\n",
    "# and that code has been copied to the setup code above. So, no need to\n",
    "# import it again\n",
    "\n",
    "# Specify the model\n",
    "iowa_model = DecisionTreeRegressor(random_state=1)\n",
    "\n",
    "# Fit iowa_model with the training data.\n",
    "iowa_model.fit(train_X,train_y)\n",
    "\n",
    "# Check your answer\n",
    "step_2.check()"
   ]
  },
  {
   "cell_type": "code",
   "execution_count": 5,
   "id": "eeb1862b",
   "metadata": {
    "execution": {
     "iopub.execute_input": "2022-03-22T10:53:22.303650Z",
     "iopub.status.busy": "2022-03-22T10:53:22.302751Z",
     "iopub.status.idle": "2022-03-22T10:53:22.305729Z",
     "shell.execute_reply": "2022-03-22T10:53:22.306217Z",
     "shell.execute_reply.started": "2022-03-22T10:52:08.026890Z"
    },
    "papermill": {
     "duration": 0.023468,
     "end_time": "2022-03-22T10:53:22.306368",
     "exception": false,
     "start_time": "2022-03-22T10:53:22.282900",
     "status": "completed"
    },
    "tags": []
   },
   "outputs": [],
   "source": [
    "# step_2.hint()\n",
    "# step_2.solution()"
   ]
  },
  {
   "cell_type": "markdown",
   "id": "a1063feb",
   "metadata": {
    "papermill": {
     "duration": 0.015413,
     "end_time": "2022-03-22T10:53:22.337292",
     "exception": false,
     "start_time": "2022-03-22T10:53:22.321879",
     "status": "completed"
    },
    "tags": []
   },
   "source": [
    "## Step 3: Make Predictions with Validation data\n"
   ]
  },
  {
   "cell_type": "code",
   "execution_count": 6,
   "id": "0175455d",
   "metadata": {
    "execution": {
     "iopub.execute_input": "2022-03-22T10:53:22.376061Z",
     "iopub.status.busy": "2022-03-22T10:53:22.372427Z",
     "iopub.status.idle": "2022-03-22T10:53:22.382057Z",
     "shell.execute_reply": "2022-03-22T10:53:22.382472Z",
     "shell.execute_reply.started": "2022-03-22T10:52:08.034011Z"
    },
    "papermill": {
     "duration": 0.029673,
     "end_time": "2022-03-22T10:53:22.382644",
     "exception": false,
     "start_time": "2022-03-22T10:53:22.352971",
     "status": "completed"
    },
    "tags": []
   },
   "outputs": [
    {
     "data": {
      "application/javascript": [
       "parent.postMessage({\"jupyterEvent\": \"custom.exercise_interaction\", \"data\": {\"outcomeType\": 1, \"valueTowardsCompletion\": 0.25, \"interactionType\": 1, \"questionType\": 2, \"questionId\": \"3_ValPreds\", \"learnToolsVersion\": \"0.3.4\", \"failureMessage\": \"\", \"exceptionClass\": \"\", \"trace\": \"\"}}, \"*\")"
      ],
      "text/plain": [
       "<IPython.core.display.Javascript object>"
      ]
     },
     "metadata": {},
     "output_type": "display_data"
    },
    {
     "data": {
      "text/markdown": [
       "<span style=\"color:#33cc33\">Correct</span>"
      ],
      "text/plain": [
       "Correct"
      ]
     },
     "metadata": {},
     "output_type": "display_data"
    }
   ],
   "source": [
    "# Predict with all validation observations\n",
    "val_predictions = iowa_model.predict(val_X)\n",
    "\n",
    "# Check your answer\n",
    "step_3.check()"
   ]
  },
  {
   "cell_type": "code",
   "execution_count": 7,
   "id": "9fa5ec4d",
   "metadata": {
    "execution": {
     "iopub.execute_input": "2022-03-22T10:53:22.419735Z",
     "iopub.status.busy": "2022-03-22T10:53:22.418867Z",
     "iopub.status.idle": "2022-03-22T10:53:22.421184Z",
     "shell.execute_reply": "2022-03-22T10:53:22.421720Z",
     "shell.execute_reply.started": "2022-03-22T10:52:08.056974Z"
    },
    "papermill": {
     "duration": 0.022786,
     "end_time": "2022-03-22T10:53:22.421872",
     "exception": false,
     "start_time": "2022-03-22T10:53:22.399086",
     "status": "completed"
    },
    "tags": []
   },
   "outputs": [],
   "source": [
    "# step_3.hint()\n",
    "# step_3.solution()"
   ]
  },
  {
   "cell_type": "markdown",
   "id": "2c7bc6e9",
   "metadata": {
    "papermill": {
     "duration": 0.016251,
     "end_time": "2022-03-22T10:53:22.454745",
     "exception": false,
     "start_time": "2022-03-22T10:53:22.438494",
     "status": "completed"
    },
    "tags": []
   },
   "source": [
    "Inspect your predictions and actual values from validation data."
   ]
  },
  {
   "cell_type": "markdown",
   "id": "a5777291",
   "metadata": {
    "papermill": {
     "duration": 0.016241,
     "end_time": "2022-03-22T10:53:22.487858",
     "exception": false,
     "start_time": "2022-03-22T10:53:22.471617",
     "status": "completed"
    },
    "tags": []
   },
   "source": [
    "What do you notice that is different from what you saw with in-sample predictions (which are printed after the top code cell in this page).\n",
    "\n",
    "Do you remember why validation predictions differ from in-sample (or training) predictions? This is an important idea from the last lesson.\n",
    "\n"
   ]
  },
  {
   "cell_type": "code",
   "execution_count": 8,
   "id": "a5a76451",
   "metadata": {
    "execution": {
     "iopub.execute_input": "2022-03-22T10:53:22.527005Z",
     "iopub.status.busy": "2022-03-22T10:53:22.524495Z",
     "iopub.status.idle": "2022-03-22T10:53:22.535533Z",
     "shell.execute_reply": "2022-03-22T10:53:22.536165Z",
     "shell.execute_reply.started": "2022-03-22T10:52:08.062099Z"
    },
    "papermill": {
     "duration": 0.031751,
     "end_time": "2022-03-22T10:53:22.536386",
     "exception": false,
     "start_time": "2022-03-22T10:53:22.504635",
     "status": "completed"
    },
    "tags": []
   },
   "outputs": [
    {
     "name": "stdout",
     "output_type": "stream",
     "text": [
      "      LotArea  YearBuilt  1stFlrSF  2ndFlrSF  FullBath  BedroomAbvGr  \\\n",
      "258     12435       2001       963       829         2             3   \n",
      "267      8400       1939      1052       720         2             4   \n",
      "288      9819       1967       900         0         1             3   \n",
      "649      1936       1970       630         0         1             1   \n",
      "1233    12160       1959      1188         0         1             3   \n",
      "\n",
      "      TotRmsAbvGrd  \n",
      "258              7  \n",
      "267              8  \n",
      "288              5  \n",
      "649              3  \n",
      "1233             6  \n",
      "      LotArea  YearBuilt  1stFlrSF  2ndFlrSF  FullBath  BedroomAbvGr  \\\n",
      "6       10084       2004      1694         0         2             3   \n",
      "807     21384       1923      1072       504         1             3   \n",
      "955      7136       1946       979       979         2             4   \n",
      "1040    13125       1957      1803         0         2             3   \n",
      "701      9600       1969      1164         0         1             3   \n",
      "\n",
      "      TotRmsAbvGrd  \n",
      "6                7  \n",
      "807              6  \n",
      "955              8  \n",
      "1040             8  \n",
      "701              6  \n"
     ]
    }
   ],
   "source": [
    "# print the top few validation predictions\n",
    "print(val_X.head())\n",
    "# print the top few actual prices from validation data\n",
    "print(train_X.head())"
   ]
  },
  {
   "cell_type": "markdown",
   "id": "934dfbd2",
   "metadata": {
    "papermill": {
     "duration": 0.016808,
     "end_time": "2022-03-22T10:53:22.572072",
     "exception": false,
     "start_time": "2022-03-22T10:53:22.555264",
     "status": "completed"
    },
    "tags": []
   },
   "source": []
  },
  {
   "cell_type": "code",
   "execution_count": null,
   "id": "0284810e",
   "metadata": {
    "papermill": {
     "duration": 0.016867,
     "end_time": "2022-03-22T10:53:22.606296",
     "exception": false,
     "start_time": "2022-03-22T10:53:22.589429",
     "status": "completed"
    },
    "tags": []
   },
   "outputs": [],
   "source": []
  },
  {
   "cell_type": "code",
   "execution_count": 9,
   "id": "3da9f758",
   "metadata": {
    "execution": {
     "iopub.execute_input": "2022-03-22T10:53:22.643274Z",
     "iopub.status.busy": "2022-03-22T10:53:22.642655Z",
     "iopub.status.idle": "2022-03-22T10:53:22.651438Z",
     "shell.execute_reply": "2022-03-22T10:53:22.650956Z",
     "shell.execute_reply.started": "2022-03-22T10:52:08.089824Z"
    },
    "papermill": {
     "duration": 0.02816,
     "end_time": "2022-03-22T10:53:22.651577",
     "exception": false,
     "start_time": "2022-03-22T10:53:22.623417",
     "status": "completed"
    },
    "tags": []
   },
   "outputs": [
    {
     "name": "stdout",
     "output_type": "stream",
     "text": [
      "29652.931506849316\n"
     ]
    },
    {
     "data": {
      "application/javascript": [
       "parent.postMessage({\"jupyterEvent\": \"custom.exercise_interaction\", \"data\": {\"outcomeType\": 1, \"valueTowardsCompletion\": 0.25, \"interactionType\": 1, \"questionType\": 1, \"questionId\": \"4_MAE\", \"learnToolsVersion\": \"0.3.4\", \"failureMessage\": \"\", \"exceptionClass\": \"\", \"trace\": \"\"}}, \"*\")"
      ],
      "text/plain": [
       "<IPython.core.display.Javascript object>"
      ]
     },
     "metadata": {},
     "output_type": "display_data"
    },
    {
     "data": {
      "text/markdown": [
       "<span style=\"color:#33cc33\">Correct</span>"
      ],
      "text/plain": [
       "Correct"
      ]
     },
     "metadata": {},
     "output_type": "display_data"
    }
   ],
   "source": [
    "from sklearn.metrics import mean_absolute_error\n",
    "val_mae = mean_absolute_error(val_y,val_predictions)\n",
    "# uncomment following line to see the validation_mae\n",
    "print(val_mae)\n",
    "# Check your answer\n",
    "step_4.check()"
   ]
  },
  {
   "cell_type": "code",
   "execution_count": 10,
   "id": "92b1e3f8",
   "metadata": {
    "execution": {
     "iopub.execute_input": "2022-03-22T10:53:22.692805Z",
     "iopub.status.busy": "2022-03-22T10:53:22.692210Z",
     "iopub.status.idle": "2022-03-22T10:53:22.693758Z",
     "shell.execute_reply": "2022-03-22T10:53:22.694223Z",
     "shell.execute_reply.started": "2022-03-22T10:52:08.103639Z"
    },
    "papermill": {
     "duration": 0.024123,
     "end_time": "2022-03-22T10:53:22.694379",
     "exception": false,
     "start_time": "2022-03-22T10:53:22.670256",
     "status": "completed"
    },
    "tags": []
   },
   "outputs": [],
   "source": [
    "# step_4.hint()\n",
    "# step_4.solution()"
   ]
  },
  {
   "cell_type": "markdown",
   "id": "fe960642",
   "metadata": {
    "papermill": {
     "duration": 0.017923,
     "end_time": "2022-03-22T10:53:22.730533",
     "exception": false,
     "start_time": "2022-03-22T10:53:22.712610",
     "status": "completed"
    },
    "tags": []
   },
   "source": [
    "Is that MAE good?  There isn't a general rule for what values are good that applies across applications. But you'll see how to use (and improve) this number in the next step.\n",
    "\n",
    "# Keep Going\n",
    "\n",
    "You are ready for **[Underfitting and Overfitting](https://www.kaggle.com/dansbecker/underfitting-and-overfitting).**\n"
   ]
  },
  {
   "cell_type": "markdown",
   "id": "c903b498",
   "metadata": {
    "papermill": {
     "duration": 0.01794,
     "end_time": "2022-03-22T10:53:22.767285",
     "exception": false,
     "start_time": "2022-03-22T10:53:22.749345",
     "status": "completed"
    },
    "tags": []
   },
   "source": [
    "---\n",
    "\n",
    "\n",
    "\n",
    "\n",
    "*Have questions or comments? Visit the [course discussion forum](https://www.kaggle.com/learn/intro-to-machine-learning/discussion) to chat with other learners.*"
   ]
  }
 ],
 "metadata": {
  "kernelspec": {
   "display_name": "Python 3",
   "language": "python",
   "name": "python3"
  },
  "language_info": {
   "codemirror_mode": {
    "name": "ipython",
    "version": 3
   },
   "file_extension": ".py",
   "mimetype": "text/x-python",
   "name": "python",
   "nbconvert_exporter": "python",
   "pygments_lexer": "ipython3",
   "version": "3.7.12"
  },
  "papermill": {
   "default_parameters": {},
   "duration": 11.329423,
   "end_time": "2022-03-22T10:53:23.495404",
   "environment_variables": {},
   "exception": null,
   "input_path": "__notebook__.ipynb",
   "output_path": "__notebook__.ipynb",
   "parameters": {},
   "start_time": "2022-03-22T10:53:12.165981",
   "version": "2.3.3"
  }
 },
 "nbformat": 4,
 "nbformat_minor": 5
}
