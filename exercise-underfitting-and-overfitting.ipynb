{
 "cells": [
  {
   "cell_type": "markdown",
   "id": "f93708d8",
   "metadata": {
    "papermill": {
     "duration": 0.013473,
     "end_time": "2022-03-22T19:41:26.706299",
     "exception": false,
     "start_time": "2022-03-22T19:41:26.692826",
     "status": "completed"
    },
    "tags": []
   },
   "source": [
    "**This notebook is an exercise in the [Introduction to Machine Learning](https://www.kaggle.com/learn/intro-to-machine-learning) course.  You can reference the tutorial at [this link](https://www.kaggle.com/dansbecker/underfitting-and-overfitting).**\n",
    "\n",
    "---\n"
   ]
  },
  {
   "cell_type": "markdown",
   "id": "992190b7",
   "metadata": {
    "papermill": {
     "duration": 0.013023,
     "end_time": "2022-03-22T19:41:26.733876",
     "exception": false,
     "start_time": "2022-03-22T19:41:26.720853",
     "status": "completed"
    },
    "tags": []
   },
   "source": [
    "## Recap\n",
    "You've built your first model, and now it's time to optimize the size of the tree to make better predictions. Run this cell to set up your coding environment where the previous step left off."
   ]
  },
  {
   "cell_type": "code",
   "execution_count": 1,
   "id": "820da08d",
   "metadata": {
    "execution": {
     "iopub.execute_input": "2022-03-22T19:41:26.768212Z",
     "iopub.status.busy": "2022-03-22T19:41:26.767237Z",
     "iopub.status.idle": "2022-03-22T19:41:28.198348Z",
     "shell.execute_reply": "2022-03-22T19:41:28.198873Z",
     "shell.execute_reply.started": "2022-03-22T18:45:56.852848Z"
    },
    "papermill": {
     "duration": 1.452824,
     "end_time": "2022-03-22T19:41:28.199173",
     "exception": false,
     "start_time": "2022-03-22T19:41:26.746349",
     "status": "completed"
    },
    "tags": []
   },
   "outputs": [
    {
     "name": "stdout",
     "output_type": "stream",
     "text": [
      "Validation MAE: 29,653\n",
      "\n",
      "Setup complete\n"
     ]
    }
   ],
   "source": [
    "# Code you have previously used to load data\n",
    "import pandas as pd\n",
    "from sklearn.metrics import mean_absolute_error\n",
    "from sklearn.model_selection import train_test_split\n",
    "from sklearn.tree import DecisionTreeRegressor\n",
    "\n",
    "\n",
    "# Path of the file to read\n",
    "iowa_file_path = '../input/home-data-for-ml-course/train.csv'\n",
    "\n",
    "home_data = pd.read_csv(iowa_file_path)\n",
    "# Create target object and call it y\n",
    "y = home_data.SalePrice\n",
    "# Create X\n",
    "features = ['LotArea', 'YearBuilt', '1stFlrSF', '2ndFlrSF', 'FullBath', 'BedroomAbvGr', 'TotRmsAbvGrd']\n",
    "X = home_data[features]\n",
    "\n",
    "# Split into validation and training data\n",
    "train_X, val_X, train_y, val_y = train_test_split(X, y, random_state=1)\n",
    "\n",
    "# Specify Model\n",
    "iowa_model = DecisionTreeRegressor(random_state=1)\n",
    "# Fit Model\n",
    "iowa_model.fit(train_X, train_y)\n",
    "\n",
    "# Make validation predictions and calculate mean absolute error\n",
    "val_predictions = iowa_model.predict(val_X)\n",
    "val_mae = mean_absolute_error(val_predictions, val_y)\n",
    "print(\"Validation MAE: {:,.0f}\".format(val_mae))\n",
    "\n",
    "# Set up code checking\n",
    "from learntools.core import binder\n",
    "binder.bind(globals())\n",
    "from learntools.machine_learning.ex5 import *\n",
    "print(\"\\nSetup complete\")"
   ]
  },
  {
   "cell_type": "markdown",
   "id": "abf721f2",
   "metadata": {
    "papermill": {
     "duration": 0.012674,
     "end_time": "2022-03-22T19:41:28.225704",
     "exception": false,
     "start_time": "2022-03-22T19:41:28.213030",
     "status": "completed"
    },
    "tags": []
   },
   "source": [
    "# Exercises\n",
    "You could write the function `get_mae` yourself. For now, we'll supply it. This is the same function you read about in the previous lesson. Just run the cell below."
   ]
  },
  {
   "cell_type": "code",
   "execution_count": 2,
   "id": "6c656f59",
   "metadata": {
    "execution": {
     "iopub.execute_input": "2022-03-22T19:41:28.258647Z",
     "iopub.status.busy": "2022-03-22T19:41:28.257854Z",
     "iopub.status.idle": "2022-03-22T19:41:28.260619Z",
     "shell.execute_reply": "2022-03-22T19:41:28.260125Z",
     "shell.execute_reply.started": "2022-03-22T18:45:56.904821Z"
    },
    "papermill": {
     "duration": 0.021833,
     "end_time": "2022-03-22T19:41:28.260776",
     "exception": false,
     "start_time": "2022-03-22T19:41:28.238943",
     "status": "completed"
    },
    "tags": []
   },
   "outputs": [],
   "source": [
    "def get_mae(max_leaf_nodes, train_X, val_X, train_y, val_y):\n",
    "    model = DecisionTreeRegressor(max_leaf_nodes=max_leaf_nodes, random_state=0)\n",
    "    model.fit(train_X, train_y)\n",
    "    preds_val = model.predict(val_X)\n",
    "    mae = mean_absolute_error(val_y, preds_val)\n",
    "    return(mae)"
   ]
  },
  {
   "cell_type": "markdown",
   "id": "e71f03be",
   "metadata": {
    "papermill": {
     "duration": 0.012655,
     "end_time": "2022-03-22T19:41:28.286410",
     "exception": false,
     "start_time": "2022-03-22T19:41:28.273755",
     "status": "completed"
    },
    "tags": []
   },
   "source": [
    "## Step 1: Compare Different Tree Sizes\n",
    "Write a loop that tries the following values for *max_leaf_nodes* from a set of possible values.\n",
    "\n",
    "Call the *get_mae* function on each value of max_leaf_nodes. Store the output in some way that allows you to select the value of `max_leaf_nodes` that gives the most accurate model on your data."
   ]
  },
  {
   "cell_type": "code",
   "execution_count": 3,
   "id": "47f7e7f0",
   "metadata": {
    "_kg_hide-input": false,
    "execution": {
     "iopub.execute_input": "2022-03-22T19:41:28.321749Z",
     "iopub.status.busy": "2022-03-22T19:41:28.321045Z",
     "iopub.status.idle": "2022-03-22T19:41:28.366460Z",
     "shell.execute_reply": "2022-03-22T19:41:28.365893Z",
     "shell.execute_reply.started": "2022-03-22T18:45:56.912377Z"
    },
    "papermill": {
     "duration": 0.06719,
     "end_time": "2022-03-22T19:41:28.366597",
     "exception": false,
     "start_time": "2022-03-22T19:41:28.299407",
     "status": "completed"
    },
    "tags": []
   },
   "outputs": [
    {
     "name": "stdout",
     "output_type": "stream",
     "text": [
      "Max leaf nodes: 500  \t\t Mean Absolute Error:  29454\n"
     ]
    },
    {
     "data": {
      "application/javascript": [
       "parent.postMessage({\"jupyterEvent\": \"custom.exercise_interaction\", \"data\": {\"outcomeType\": 1, \"valueTowardsCompletion\": 0.5, \"interactionType\": 1, \"questionType\": 1, \"questionId\": \"1_BestTreeSize\", \"learnToolsVersion\": \"0.3.4\", \"failureMessage\": \"\", \"exceptionClass\": \"\", \"trace\": \"\"}}, \"*\")"
      ],
      "text/plain": [
       "<IPython.core.display.Javascript object>"
      ]
     },
     "metadata": {},
     "output_type": "display_data"
    },
    {
     "data": {
      "text/markdown": [
       "<span style=\"color:#33cc33\">Correct</span>"
      ],
      "text/plain": [
       "Correct"
      ]
     },
     "metadata": {},
     "output_type": "display_data"
    }
   ],
   "source": [
    "candidate_max_leaf_nodes = [5, 25, 50, 100, 250, 500]\n",
    "# Write loop to find the ideal tree size from candidate_max_leaf_nodes\n",
    "mae_dict = {}\n",
    "for max_leaf in candidate_max_leaf_nodes:\n",
    "    my_mae = get_mae(max_leaf, train_X, val_X, train_y, val_y)\n",
    "    mae_dict[max_leaf] = my_mae\n",
    "print(\"Max leaf nodes: %d  \\t\\t Mean Absolute Error:  %d\" %(max_leaf, my_mae))\n",
    "# Store the best value of max_leaf_nodes (it will be either 5, 25, 50, 100, 250 or 500)\n",
    "best_tree_size = min(mae_dict, key=mae_dict.get)\n",
    "# Check your answer\n",
    "step_1.check()"
   ]
  },
  {
   "cell_type": "code",
   "execution_count": 4,
   "id": "3e29d5b5",
   "metadata": {
    "execution": {
     "iopub.execute_input": "2022-03-22T19:41:28.400451Z",
     "iopub.status.busy": "2022-03-22T19:41:28.399432Z",
     "iopub.status.idle": "2022-03-22T19:41:28.402460Z",
     "shell.execute_reply": "2022-03-22T19:41:28.403060Z",
     "shell.execute_reply.started": "2022-03-22T18:45:56.976448Z"
    },
    "papermill": {
     "duration": 0.02171,
     "end_time": "2022-03-22T19:41:28.403226",
     "exception": false,
     "start_time": "2022-03-22T19:41:28.381516",
     "status": "completed"
    },
    "tags": []
   },
   "outputs": [],
   "source": [
    "# The lines below will show you a hint or the solution.\n",
    "# step_1.hint() \n",
    "# step_1.solution()"
   ]
  },
  {
   "cell_type": "markdown",
   "id": "8fffc17b",
   "metadata": {
    "papermill": {
     "duration": 0.014394,
     "end_time": "2022-03-22T19:41:28.432235",
     "exception": false,
     "start_time": "2022-03-22T19:41:28.417841",
     "status": "completed"
    },
    "tags": []
   },
   "source": [
    "## Step 2: Fit Model Using All Data\n",
    "You know the best tree size. If you were going to deploy this model in practice, you would make it even more accurate by using all of the data and keeping that tree size.  That is, you don't need to hold out the validation data now that you've made all your modeling decisions."
   ]
  },
  {
   "cell_type": "code",
   "execution_count": 5,
   "id": "54c5d225",
   "metadata": {
    "execution": {
     "iopub.execute_input": "2022-03-22T19:41:28.465310Z",
     "iopub.status.busy": "2022-03-22T19:41:28.464693Z",
     "iopub.status.idle": "2022-03-22T19:41:28.480052Z",
     "shell.execute_reply": "2022-03-22T19:41:28.480539Z",
     "shell.execute_reply.started": "2022-03-22T18:45:56.981503Z"
    },
    "papermill": {
     "duration": 0.033428,
     "end_time": "2022-03-22T19:41:28.480721",
     "exception": false,
     "start_time": "2022-03-22T19:41:28.447293",
     "status": "completed"
    },
    "tags": []
   },
   "outputs": [
    {
     "data": {
      "application/javascript": [
       "parent.postMessage({\"jupyterEvent\": \"custom.exercise_interaction\", \"data\": {\"outcomeType\": 1, \"valueTowardsCompletion\": 0.5, \"interactionType\": 1, \"questionType\": 2, \"questionId\": \"2_FitModelWithAllData\", \"learnToolsVersion\": \"0.3.4\", \"failureMessage\": \"\", \"exceptionClass\": \"\", \"trace\": \"\"}}, \"*\")"
      ],
      "text/plain": [
       "<IPython.core.display.Javascript object>"
      ]
     },
     "metadata": {},
     "output_type": "display_data"
    },
    {
     "data": {
      "text/markdown": [
       "<span style=\"color:#33cc33\">Correct</span>"
      ],
      "text/plain": [
       "Correct"
      ]
     },
     "metadata": {},
     "output_type": "display_data"
    }
   ],
   "source": [
    "# Fit the model with best_tree_size. Fill in argument to make optimal size\n",
    "final_model = DecisionTreeRegressor(max_leaf_nodes=best_tree_size, random_state=0)\n",
    "\n",
    "# fit the final model\n",
    "final_model.fit(X, y)\n",
    "\n",
    "step_2.check()"
   ]
  },
  {
   "cell_type": "code",
   "execution_count": 6,
   "id": "286ebcb1",
   "metadata": {
    "execution": {
     "iopub.execute_input": "2022-03-22T19:41:28.515591Z",
     "iopub.status.busy": "2022-03-22T19:41:28.514938Z",
     "iopub.status.idle": "2022-03-22T19:41:28.530126Z",
     "shell.execute_reply": "2022-03-22T19:41:28.529573Z",
     "shell.execute_reply.started": "2022-03-22T18:45:57.008709Z"
    },
    "papermill": {
     "duration": 0.033662,
     "end_time": "2022-03-22T19:41:28.530264",
     "exception": false,
     "start_time": "2022-03-22T19:41:28.496602",
     "status": "completed"
    },
    "tags": []
   },
   "outputs": [
    {
     "data": {
      "text/plain": [
       "DecisionTreeRegressor(max_leaf_nodes=100, random_state=1)"
      ]
     },
     "execution_count": 6,
     "metadata": {},
     "output_type": "execute_result"
    }
   ],
   "source": [
    "# Fit the model with best_tree_size. Fill in argument to make optimal size\n",
    "final_model = DecisionTreeRegressor(max_leaf_nodes=best_tree_size, random_state=1)\n",
    "\n",
    "# fit the final model\n",
    "final_model.fit(X, y)"
   ]
  },
  {
   "cell_type": "code",
   "execution_count": 7,
   "id": "9dcdfbf6",
   "metadata": {
    "execution": {
     "iopub.execute_input": "2022-03-22T19:41:28.569865Z",
     "iopub.status.busy": "2022-03-22T19:41:28.569132Z",
     "iopub.status.idle": "2022-03-22T19:41:28.575179Z",
     "shell.execute_reply": "2022-03-22T19:41:28.575716Z",
     "shell.execute_reply.started": "2022-03-22T18:45:57.028872Z"
    },
    "papermill": {
     "duration": 0.029224,
     "end_time": "2022-03-22T19:41:28.575882",
     "exception": false,
     "start_time": "2022-03-22T19:41:28.546658",
     "status": "completed"
    },
    "tags": []
   },
   "outputs": [
    {
     "data": {
      "application/javascript": [
       "parent.postMessage({\"jupyterEvent\": \"custom.exercise_interaction\", \"data\": {\"outcomeType\": 1, \"valueTowardsCompletion\": 0.5, \"interactionType\": 1, \"questionType\": 2, \"questionId\": \"2_FitModelWithAllData\", \"learnToolsVersion\": \"0.3.4\", \"failureMessage\": \"\", \"exceptionClass\": \"\", \"trace\": \"\"}}, \"*\")"
      ],
      "text/plain": [
       "<IPython.core.display.Javascript object>"
      ]
     },
     "metadata": {},
     "output_type": "display_data"
    },
    {
     "data": {
      "text/markdown": [
       "<span style=\"color:#33cc33\">Correct</span>"
      ],
      "text/plain": [
       "Correct"
      ]
     },
     "metadata": {},
     "output_type": "display_data"
    }
   ],
   "source": [
    "\n",
    "# Check your answer\n",
    "step_2.check()\n",
    "\n",
    "# step_2.hint()\n",
    "# step_2.solution()"
   ]
  },
  {
   "cell_type": "markdown",
   "id": "f5d05906",
   "metadata": {
    "papermill": {
     "duration": 0.017314,
     "end_time": "2022-03-22T19:41:28.610566",
     "exception": false,
     "start_time": "2022-03-22T19:41:28.593252",
     "status": "completed"
    },
    "tags": []
   },
   "source": [
    "You've tuned this model and improved your results. But we are still using Decision Tree models, which are not very sophisticated by modern machine learning standards. In the next step you will learn to use Random Forests to improve your models even more.\n",
    "\n",
    "# Keep Going\n",
    "\n",
    "You are ready for **[Random Forests](https://www.kaggle.com/dansbecker/random-forests).**\n"
   ]
  },
  {
   "cell_type": "markdown",
   "id": "69a78d7b",
   "metadata": {
    "papermill": {
     "duration": 0.017802,
     "end_time": "2022-03-22T19:41:28.645869",
     "exception": false,
     "start_time": "2022-03-22T19:41:28.628067",
     "status": "completed"
    },
    "tags": []
   },
   "source": [
    "---\n",
    "\n",
    "\n",
    "\n",
    "\n",
    "*Have questions or comments? Visit the [course discussion forum](https://www.kaggle.com/learn/intro-to-machine-learning/discussion) to chat with other learners.*"
   ]
  }
 ],
 "metadata": {
  "kernelspec": {
   "display_name": "Python 3",
   "language": "python",
   "name": "python3"
  },
  "language_info": {
   "codemirror_mode": {
    "name": "ipython",
    "version": 3
   },
   "file_extension": ".py",
   "mimetype": "text/x-python",
   "name": "python",
   "nbconvert_exporter": "python",
   "pygments_lexer": "ipython3",
   "version": "3.7.12"
  },
  "papermill": {
   "default_parameters": {},
   "duration": 12.959785,
   "end_time": "2022-03-22T19:41:29.373650",
   "environment_variables": {},
   "exception": null,
   "input_path": "__notebook__.ipynb",
   "output_path": "__notebook__.ipynb",
   "parameters": {},
   "start_time": "2022-03-22T19:41:16.413865",
   "version": "2.3.3"
  }
 },
 "nbformat": 4,
 "nbformat_minor": 5
}
